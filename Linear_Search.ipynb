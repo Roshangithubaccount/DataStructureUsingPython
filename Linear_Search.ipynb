{
 "cells": [
  {
   "cell_type": "code",
   "execution_count": 1,
   "id": "4e34e50b-7218-4eaa-98d7-3a36f3e4e725",
   "metadata": {},
   "outputs": [],
   "source": [
    "# algorithem\n",
    "\n",
    "#1.Start from the first element.\n",
    "#2.Compare each element with the target.\n",
    "#3.If a match is found, return the index.\n",
    "#4.If no match is found after checking all elements, return -1 (element not found).\n"
   ]
  },
  {
   "cell_type": "code",
   "execution_count": 2,
   "id": "b86d16fd-62a7-41c1-b2ce-69a2e48b6a2f",
   "metadata": {},
   "outputs": [
    {
     "name": "stdout",
     "output_type": "stream",
     "text": [
      "Element found at index 4\n"
     ]
    }
   ],
   "source": [
    "def linear_search(arr, target):\n",
    "    i = 0  # Start index\n",
    "    while i < len(arr):  # Loop until the end of the list\n",
    "        if arr[i] == target:  # If element is found\n",
    "            return i  # Return index\n",
    "        i += 1  # Move to the next element\n",
    "    return -1  # Return -1 if not found\n",
    "\n",
    "arr = [10, 20, 30, 40, 50]\n",
    "target = 50\n",
    "result = linear_search(arr, target)\n",
    "\n",
    "if result != -1:\n",
    "    print(f\"Element found at index {result}\")\n",
    "else:\n",
    "    print(\"Element not found\")\n",
    "\n"
   ]
  },
  {
   "cell_type": "code",
   "execution_count": 3,
   "id": "d7711898-5914-44f8-af4a-9dea7d821b28",
   "metadata": {},
   "outputs": [
    {
     "name": "stdin",
     "output_type": "stream",
     "text": [
      "Enter the number of elements:  3\n",
      "Enter the element:  45\n",
      "Enter the element:  55\n",
      "Enter the element:  66\n",
      "Enter the searching element:  66\n"
     ]
    },
    {
     "name": "stdout",
     "output_type": "stream",
     "text": [
      "66 Element found at the position 2\n"
     ]
    }
   ],
   "source": [
    "def linear_search(lst, key):\n",
    "    size = len(lst)\n",
    "    index = 0\n",
    "    while index < size:\n",
    "        if lst[index] == key:\n",
    "            return index  \n",
    "        index += 1  \n",
    "\n",
    "    return -1  \n",
    "\n",
    "\n",
    "n = int(input(\"Enter the number of elements: \"))\n",
    "lst = []\n",
    "\n",
    "for i in range(n):\n",
    "    num = int(input(\"Enter the element: \"))\n",
    "    lst.append(num)\n",
    "\n",
    "key = int(input(\"Enter the searching element: \"))\n",
    "position = linear_search(lst, key)  \n",
    "\n",
    "if position == -1:\n",
    "    print(\"Element not found\")\n",
    "else:\n",
    "    print(\"{} Element found at the position {}\".format(key, position))\n"
   ]
  },
  {
   "cell_type": "markdown",
   "id": "0d83b14b-0389-44c2-b06d-c144ae96b50b",
   "metadata": {},
   "source": [
    "## binary search"
   ]
  },
  {
   "cell_type": "code",
   "execution_count": 6,
   "id": "d989ee43-89d1-4da0-b8de-c89f235fed82",
   "metadata": {},
   "outputs": [
    {
     "name": "stdin",
     "output_type": "stream",
     "text": [
      "Enter the number of elements:  5\n",
      "Enter the element:  55\n",
      "Enter the element:  66\n",
      "Enter the element:  77\n",
      "Enter the element:  88\n",
      "Enter the element:  99\n",
      "Enter the searching element:  77\n"
     ]
    },
    {
     "name": "stdout",
     "output_type": "stream",
     "text": [
      "77 Element found at the position 2\n"
     ]
    }
   ],
   "source": [
    "def binary_search(arr, key):\n",
    "    left = 0\n",
    "    right = len(arr) - 1\n",
    "\n",
    "    while left <= right:\n",
    "        mid = (left + right) // 2  \n",
    "\n",
    "        if arr[mid] == key:\n",
    "            return mid  \n",
    "        elif arr[mid] < key:\n",
    "            left = mid + 1  \n",
    "        else:\n",
    "            right = mid - 1  \n",
    "\n",
    "    return -1  \n",
    "\n",
    "\n",
    "n = int(input(\"Enter the number of elements: \"))\n",
    "arr = []\n",
    "\n",
    "for i in range(n):\n",
    "    num = int(input(\"Enter the element: \"))\n",
    "    arr.append(num)\n",
    "\n",
    "arr.sort()  \n",
    "\n",
    "key = int(input(\"Enter the searching element: \"))\n",
    "position = binary_search(arr, key)\n",
    "\n",
    "if position == -1:\n",
    "    print(\"Element not found\")\n",
    "else:\n",
    "    print(\"{} Element found at the position {}\".format(key, position))\n"
   ]
  },
  {
   "cell_type": "code",
   "execution_count": null,
   "id": "9ce3074d-1e54-4467-a5cf-dc6644db5fa2",
   "metadata": {},
   "outputs": [],
   "source": []
  }
 ],
 "metadata": {
  "kernelspec": {
   "display_name": "Python 3 (ipykernel)",
   "language": "python",
   "name": "python3"
  },
  "language_info": {
   "codemirror_mode": {
    "name": "ipython",
    "version": 3
   },
   "file_extension": ".py",
   "mimetype": "text/x-python",
   "name": "python",
   "nbconvert_exporter": "python",
   "pygments_lexer": "ipython3",
   "version": "3.12.4"
  }
 },
 "nbformat": 4,
 "nbformat_minor": 5
}
