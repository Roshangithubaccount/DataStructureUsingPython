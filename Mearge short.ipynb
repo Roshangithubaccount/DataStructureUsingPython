{
 "cells": [
  {
   "cell_type": "code",
   "execution_count": 1,
   "id": "f373805f-f4db-4bf7-b8e0-30510f36e7ac",
   "metadata": {},
   "outputs": [
    {
     "name": "stdin",
     "output_type": "stream",
     "text": [
      "Enter number of elements:  4\n",
      "Enter element:  33\n",
      "Enter element:  12\n",
      "Enter element:  21\n",
      "Enter element:  42\n"
     ]
    },
    {
     "name": "stdout",
     "output_type": "stream",
     "text": [
      "Original array: [33, 12, 21, 42]\n",
      "Sorted array: [12, 21, 33, 42]\n"
     ]
    }
   ],
   "source": [
    "def mergelist(arr, lst, lend, rst, rend):\n",
    "    temp = []\n",
    "    i = lst  \n",
    "    j = rst \n",
    "\n",
    "    while i <= lend and j <= rend:\n",
    "        if arr[i] < arr[j]:\n",
    "            temp.append(arr[i])\n",
    "            i += 1\n",
    "        else:\n",
    "            temp.append(arr[j])\n",
    "            j += 1\n",
    "\n",
    "    while i <= lend:\n",
    "        temp.append(arr[i])\n",
    "        i += 1\n",
    "\n",
    "    while j <= rend:\n",
    "        temp.append(arr[j])\n",
    "        j += 1\n",
    "\n",
    "    for i in range(lst, rend + 1):\n",
    "        arr[i] = temp[i - lst]\n",
    "\n",
    "def mergesort(arr, left, right):\n",
    "    if left < right:\n",
    "        mid = (left + right) // 2  \n",
    "        \n",
    "        mergesort(arr, left, mid)\n",
    "        mergesort(arr, mid + 1, right)\n",
    "        \n",
    "        mergelist(arr, left, mid, mid + 1, right)\n",
    "\n",
    "\n",
    "arr = []\n",
    "n = int(input(\"Enter number of elements: \"))\n",
    "for i in range(n):\n",
    "    arr.append(int(input(\"Enter element: \")))\n",
    "\n",
    "print(\"Original array:\", arr)\n",
    "mergesort(arr, 0, n - 1)\n",
    "\n",
    "print(\"Sorted array:\", arr)\n"
   ]
  },
  {
   "cell_type": "code",
   "execution_count": null,
   "id": "6fb71bbe-954f-4342-8953-4e302ac08af5",
   "metadata": {},
   "outputs": [],
   "source": []
  }
 ],
 "metadata": {
  "kernelspec": {
   "display_name": "Python 3 (ipykernel)",
   "language": "python",
   "name": "python3"
  },
  "language_info": {
   "codemirror_mode": {
    "name": "ipython",
    "version": 3
   },
   "file_extension": ".py",
   "mimetype": "text/x-python",
   "name": "python",
   "nbconvert_exporter": "python",
   "pygments_lexer": "ipython3",
   "version": "3.12.4"
  }
 },
 "nbformat": 4,
 "nbformat_minor": 5
}
