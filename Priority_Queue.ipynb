{
 "cells": [
  {
   "cell_type": "code",
   "execution_count": 2,
   "id": "82787f77-2c07-49ff-b1a5-9e0c72b986a3",
   "metadata": {},
   "outputs": [
    {
     "name": "stdout",
     "output_type": "stream",
     "text": [
      " Program to Implement Priority Queue ---\n",
      "1. Enqueue\n",
      "2. Dequeue\n",
      "3. Peek\n",
      "4. Display\n",
      "5. Exit\n"
     ]
    },
    {
     "name": "stdin",
     "output_type": "stream",
     "text": [
      "Enter your choice (1-5):  2\n"
     ]
    },
    {
     "name": "stdout",
     "output_type": "stream",
     "text": [
      "Queue Underflow (empty queue).\n",
      " Program to Implement Priority Queue ---\n",
      "1. Enqueue\n",
      "2. Dequeue\n",
      "3. Peek\n",
      "4. Display\n",
      "5. Exit\n"
     ]
    },
    {
     "name": "stdin",
     "output_type": "stream",
     "text": [
      "Enter your choice (1-5):  4\n"
     ]
    },
    {
     "name": "stdout",
     "output_type": "stream",
     "text": [
      "Queue is empty\n",
      " Program to Implement Priority Queue ---\n",
      "1. Enqueue\n",
      "2. Dequeue\n",
      "3. Peek\n",
      "4. Display\n",
      "5. Exit\n"
     ]
    },
    {
     "name": "stdin",
     "output_type": "stream",
     "text": [
      "Enter your choice (1-5):  5\n"
     ]
    },
    {
     "name": "stdout",
     "output_type": "stream",
     "text": [
      "Exiting program.\n"
     ]
    }
   ],
   "source": [
    "class Node:\n",
    "    def __init__(self, NewData, NewPriority):\n",
    "        self.data = NewData\n",
    "        self.priority = NewPriority\n",
    "\n",
    "\n",
    "class PriorityQueue:\n",
    "    def __init__(self):\n",
    "        self.items = []\n",
    "\n",
    "    def isempty(self):\n",
    "        return self.items == []\n",
    "\n",
    "    def enqueue(self, item):\n",
    "        for i in range(len(self.items)):\n",
    "            if item.priority >= self.items[i].priority:\n",
    "                self.items.insert(i, item)\n",
    "                break\n",
    "        else:\n",
    "            self.items.append(item)\n",
    "\n",
    "    def dequeue(self):\n",
    "        if not self.isempty():\n",
    "            return self.items.pop(0)\n",
    "        else:\n",
    "            return None\n",
    "\n",
    "    def peek(self):\n",
    "        if not self.isempty():\n",
    "            return self.items[0]\n",
    "        else:\n",
    "            return None\n",
    "\n",
    "    def size(self):\n",
    "        return len(self.items)\n",
    "\n",
    "    def display(self):\n",
    "        if self.isempty():\n",
    "            print(\"Queue is empty\")\n",
    "        else:\n",
    "            print(\"Priority Queue:\")\n",
    "            for item in self.items:\n",
    "                print(\"|\", format(str(item.data) + \" (\" + str(item.priority) + \")\", '>6'), end=\" \")\n",
    "            print(\"|\")\n",
    "\n",
    "\n",
    "q = PriorityQueue()\n",
    "\n",
    "while True:\n",
    "    print(\" Program to Implement Priority Queue ---\")\n",
    "    print(\"1. Enqueue\")\n",
    "    print(\"2. Dequeue\")\n",
    "    print(\"3. Peek\")\n",
    "    print(\"4. Display\")\n",
    "    print(\"5. Exit\")\n",
    "\n",
    "    try:\n",
    "        choice = int(input(\"Enter your choice (1-5): \"))\n",
    "    except ValueError:\n",
    "        print(\"Invalid input. Please enter a number from 1 to 5.\")\n",
    "        continue\n",
    "\n",
    "    if choice == 1:\n",
    "        try:\n",
    "            num = int(input(\"Enter the data: \"))\n",
    "            prio = int(input(\"Enter the priority value: \"))\n",
    "            newNode = Node(num, prio)\n",
    "            q.enqueue(newNode)\n",
    "        except ValueError:\n",
    "            print(\"Please enter valid integers.\")\n",
    "    elif choice == 2:\n",
    "        if q.isempty():\n",
    "            print(\"Queue Underflow (empty queue).\")\n",
    "        else:\n",
    "            popNode = q.dequeue()\n",
    "            print(\"Item dequeued:\", popNode.data, \"with priority\", popNode.priority)\n",
    "    elif choice == 3:\n",
    "        if q.isempty():\n",
    "            print(\"Queue is empty.\")\n",
    "        else:\n",
    "            front = q.peek()\n",
    "            print(\"Front item is:\", front.data, \"with priority\", front.priority)\n",
    "    elif choice == 4:\n",
    "        q.display()\n",
    "    elif choice == 5:\n",
    "        print(\"Exiting program.\")\n",
    "        break\n",
    "    else:\n",
    "        print(\"Invalid choice. Please enter a number from 1 to 5.\")\n"
   ]
  },
  {
   "cell_type": "markdown",
   "id": "da1e6315-53bf-4ba8-bb9a-bfc99444ddc1",
   "metadata": {},
   "source": []
  }
 ],
 "metadata": {
  "kernelspec": {
   "display_name": "Python 3 (ipykernel)",
   "language": "python",
   "name": "python3"
  },
  "language_info": {
   "codemirror_mode": {
    "name": "ipython",
    "version": 3
   },
   "file_extension": ".py",
   "mimetype": "text/x-python",
   "name": "python",
   "nbconvert_exporter": "python",
   "pygments_lexer": "ipython3",
   "version": "3.12.4"
  }
 },
 "nbformat": 4,
 "nbformat_minor": 5
}
