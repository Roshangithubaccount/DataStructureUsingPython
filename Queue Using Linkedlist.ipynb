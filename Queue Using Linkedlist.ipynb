{
 "cells": [
  {
   "cell_type": "code",
   "execution_count": 1,
   "id": "c8140c87-2640-4936-8601-1e928a7cc70c",
   "metadata": {},
   "outputs": [
    {
     "name": "stdout",
     "output_type": "stream",
     "text": [
      "\n",
      "Program to Implement Queue\n",
      "1. Enqueue\n",
      "2. Dequeue\n",
      "3. Peek\n",
      "4. Display\n",
      "5. Exit\n"
     ]
    },
    {
     "name": "stdin",
     "output_type": "stream",
     "text": [
      "Enter your choice:  1\n",
      "Enter data to enqueue:  556\n"
     ]
    },
    {
     "name": "stdout",
     "output_type": "stream",
     "text": [
      "\n",
      "Program to Implement Queue\n",
      "1. Enqueue\n",
      "2. Dequeue\n",
      "3. Peek\n",
      "4. Display\n",
      "5. Exit\n"
     ]
    },
    {
     "name": "stdin",
     "output_type": "stream",
     "text": [
      "Enter your choice:  4\n"
     ]
    },
    {
     "name": "stdout",
     "output_type": "stream",
     "text": [
      "\n",
      "Queue elements:\n",
      "556 -> None\n",
      "\n",
      "Program to Implement Queue\n",
      "1. Enqueue\n",
      "2. Dequeue\n",
      "3. Peek\n",
      "4. Display\n",
      "5. Exit\n"
     ]
    },
    {
     "name": "stdin",
     "output_type": "stream",
     "text": [
      "Enter your choice:  5\n"
     ]
    },
    {
     "name": "stdout",
     "output_type": "stream",
     "text": [
      "Exiting program.\n"
     ]
    }
   ],
   "source": [
    "class Node:\n",
    "    def __init__(self, NewData, link=None): \n",
    "        self.data = NewData\n",
    "        self.next = link\n",
    "\n",
    "class Queue:\n",
    "    def __init__(self):\n",
    "        self.front = None\n",
    "        self.rear = None\n",
    "\n",
    "    def isempty(self):\n",
    "        return self.front is None\n",
    "\n",
    "    def enqueue(self, NewData):\n",
    "        newNode = Node(NewData)\n",
    "        if self.front is None:\n",
    "            self.front = self.rear = newNode\n",
    "        else:\n",
    "            self.rear.next = newNode\n",
    "            self.rear = newNode\n",
    "\n",
    "    def peek(self):\n",
    "        if self.isempty():\n",
    "            print(\"Queue is empty!\")\n",
    "            return None\n",
    "        return self.front.data\n",
    "\n",
    "    def dequeue(self):\n",
    "        if self.isempty():\n",
    "            print(\"Queue is empty! Cannot dequeue.\")\n",
    "            return None\n",
    "        frontNode = self.front\n",
    "        if self.front == self.rear:\n",
    "            self.front = self.rear = None\n",
    "        else:\n",
    "            self.front = frontNode.next\n",
    "        return frontNode.data\n",
    "\n",
    "    def display(self):\n",
    "        if self.isempty():\n",
    "            print(\"\\nQueue is empty!\")\n",
    "            return\n",
    "        currNode = self.front\n",
    "        print(\"\\nQueue elements:\")\n",
    "        while currNode is not None:\n",
    "            print(currNode.data, end=\" -> \")\n",
    "            currNode = currNode.next\n",
    "        print(\"None\")\n",
    "\n",
    "q = Queue()\n",
    "while True:\n",
    "    print(\"\\nProgram to Implement Queue\")\n",
    "    print(\"1. Enqueue\")\n",
    "    print(\"2. Dequeue\")\n",
    "    print(\"3. Peek\")\n",
    "    print(\"4. Display\")\n",
    "    print(\"5. Exit\")\n",
    "    \n",
    "    try:\n",
    "        choice = int(input(\"Enter your choice: \"))\n",
    "        if choice == 1:\n",
    "            data = int(input(\"Enter data to enqueue: \"))\n",
    "            q.enqueue(data)\n",
    "        elif choice == 2:\n",
    "            removed = q.dequeue()\n",
    "            if removed is not None:\n",
    "                print(f\"Dequeued: {removed}\")\n",
    "        elif choice == 3:\n",
    "            peeked = q.peek()\n",
    "            if peeked is not None:\n",
    "                print(f\"Front element: {peeked}\")\n",
    "        elif choice == 4:\n",
    "            q.display()\n",
    "        elif choice == 5:\n",
    "            print(\"Exiting program.\")\n",
    "            break\n",
    "        else:\n",
    "            print(\"Invalid choice! Please enter a number between 1 and 5.\")\n",
    "    except ValueError:\n",
    "        print(\"Invalid input! Please enter a valid number.\")\n"
   ]
  },
  {
   "cell_type": "code",
   "execution_count": null,
   "id": "46e1293e-f8ad-482b-96a4-f8e40a37cc14",
   "metadata": {},
   "outputs": [],
   "source": []
  }
 ],
 "metadata": {
  "kernelspec": {
   "display_name": "Python 3 (ipykernel)",
   "language": "python",
   "name": "python3"
  },
  "language_info": {
   "codemirror_mode": {
    "name": "ipython",
    "version": 3
   },
   "file_extension": ".py",
   "mimetype": "text/x-python",
   "name": "python",
   "nbconvert_exporter": "python",
   "pygments_lexer": "ipython3",
   "version": "3.12.4"
  }
 },
 "nbformat": 4,
 "nbformat_minor": 5
}
