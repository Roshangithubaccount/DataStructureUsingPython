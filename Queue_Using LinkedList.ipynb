{
 "cells": [
  {
   "cell_type": "markdown",
   "id": "d107e888-78e6-4f1a-9d94-1a8c8348437b",
   "metadata": {},
   "source": [
    "## DATA 03/04/25"
   ]
  },
  {
   "cell_type": "code",
   "execution_count": 1,
   "id": "94af0192-a6fb-4ca9-83fa-5f77e46dc45f",
   "metadata": {},
   "outputs": [
    {
     "name": "stdout",
     "output_type": "stream",
     "text": [
      "\n",
      "Program to implement circular queue\n",
      "1. Enqueue\n",
      "2. Dequeue\n",
      "3. Peek\n",
      "4. Display\n",
      "5. Exit\n"
     ]
    },
    {
     "name": "stdin",
     "output_type": "stream",
     "text": [
      "Enter your choice:  1\n",
      "Enter the data:  455\n"
     ]
    },
    {
     "name": "stdout",
     "output_type": "stream",
     "text": [
      "\n",
      "Program to implement circular queue\n",
      "1. Enqueue\n",
      "2. Dequeue\n",
      "3. Peek\n",
      "4. Display\n",
      "5. Exit\n"
     ]
    },
    {
     "name": "stdin",
     "output_type": "stream",
     "text": [
      "Enter your choice:  5\n"
     ]
    },
    {
     "name": "stdout",
     "output_type": "stream",
     "text": [
      "Quitting....\n"
     ]
    }
   ],
   "source": [
    "class Node:\n",
    "    def __init__(self, NewData, link=None): \n",
    "        self.data = NewData\n",
    "        self.next = link\n",
    "\n",
    "class Circular_Queue:\n",
    "    def __init__(self): \n",
    "        self.tail = None\n",
    "\n",
    "    def isEmpty(self):\n",
    "        return self.tail is None\n",
    "\n",
    "    def enqueue(self, NewData):\n",
    "        newNode = Node(NewData, None)\n",
    "        if self.tail is None:\n",
    "            newNode.next = newNode\n",
    "        else:\n",
    "            newNode.next = self.tail.next\n",
    "            self.tail.next = newNode\n",
    "        self.tail = newNode\n",
    "\n",
    "    def peek(self):\n",
    "        if self.isEmpty():\n",
    "            print(\"Queue is underflow\")\n",
    "            return None\n",
    "        return self.tail.next.data\n",
    "\n",
    "    def dequeue(self):\n",
    "        if self.isEmpty():\n",
    "            print(\"Queue is underflow\")\n",
    "            return None\n",
    "        frontNode = self.tail.next\n",
    "        if frontNode.next == frontNode:  \n",
    "            self.tail = None\n",
    "        else:\n",
    "            self.tail.next = frontNode.next\n",
    "        return frontNode.data\n",
    "\n",
    "    def display(self):\n",
    "        if self.isEmpty():  \n",
    "            print(\"Queue is empty\")\n",
    "            return\n",
    "        curNode = self.tail.next\n",
    "        while curNode != self.tail:\n",
    "            print(curNode.data, end=\" -> \")\n",
    "            curNode = curNode.next\n",
    "        print(curNode.data)\n",
    "\n",
    "q = Circular_Queue()\n",
    "\n",
    "while True:\n",
    "    print(\"\\nProgram to implement circular queue\")\n",
    "    print(\"1. Enqueue\")\n",
    "    print(\"2. Dequeue\")\n",
    "    print(\"3. Peek\")\n",
    "    print(\"4. Display\")\n",
    "    print(\"5. Exit\")\n",
    "    \n",
    "    choice = int(input(\"Enter your choice: \"))\n",
    "\n",
    "    if choice == 1:\n",
    "        num = int(input(\"Enter the data: \"))\n",
    "        q.enqueue(num)\n",
    "    elif choice == 2:\n",
    "        if q.isEmpty():\n",
    "            print(\"Queue is Underflow\")\n",
    "        else:\n",
    "            num = q.dequeue()\n",
    "            print(\"Item dequeued:\", num)\n",
    "    elif choice == 3:\n",
    "        if q.isEmpty():\n",
    "            print(\"Queue is underflow\")\n",
    "        else:\n",
    "            num = q.peek()\n",
    "            print(\"Item at the front of the queue:\", num)\n",
    "    elif choice == 4:\n",
    "        q.display()\n",
    "    elif choice == 5:\n",
    "        print(\"Quitting....\")\n",
    "        break\n",
    "    else:\n",
    "        print(\"Invalid choice, please enter the correct choice\")\n"
   ]
  },
  {
   "cell_type": "code",
   "execution_count": null,
   "id": "ffaaa583-a331-4e46-9984-7f29be0f3bca",
   "metadata": {},
   "outputs": [],
   "source": []
  }
 ],
 "metadata": {
  "kernelspec": {
   "display_name": "Python 3 (ipykernel)",
   "language": "python",
   "name": "python3"
  },
  "language_info": {
   "codemirror_mode": {
    "name": "ipython",
    "version": 3
   },
   "file_extension": ".py",
   "mimetype": "text/x-python",
   "name": "python",
   "nbconvert_exporter": "python",
   "pygments_lexer": "ipython3",
   "version": "3.12.4"
  }
 },
 "nbformat": 4,
 "nbformat_minor": 5
}
