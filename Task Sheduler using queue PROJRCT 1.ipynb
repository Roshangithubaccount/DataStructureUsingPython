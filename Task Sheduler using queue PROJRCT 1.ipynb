{
 "cells": [
  {
   "cell_type": "code",
   "execution_count": 1,
   "id": "c48dfea8-6028-4de7-85a5-35bb344f802c",
   "metadata": {},
   "outputs": [
    {
     "name": "stdout",
     "output_type": "stream",
     "text": [
      "\n",
      "====== Task Scheduler Menu ======\n",
      "1. Add Task\n",
      "2. View Pending Tasks\n",
      "3. Complete Task\n",
      "4. Task Count\n",
      "5. Exit\n"
     ]
    },
    {
     "name": "stdin",
     "output_type": "stream",
     "text": [
      "Enter your choice (1-5):  1\n",
      "Enter task name:  do introduction complete \n",
      "Enter priority (High/Medium/Low):  high\n"
     ]
    },
    {
     "name": "stdout",
     "output_type": "stream",
     "text": [
      "✅ Task 'do introduction complete ' added successfully.\n",
      "\n",
      "====== Task Scheduler Menu ======\n",
      "1. Add Task\n",
      "2. View Pending Tasks\n",
      "3. Complete Task\n",
      "4. Task Count\n",
      "5. Exit\n"
     ]
    },
    {
     "name": "stdin",
     "output_type": "stream",
     "text": [
      "Enter your choice (1-5):  2\n"
     ]
    },
    {
     "name": "stdout",
     "output_type": "stream",
     "text": [
      "\n",
      "📋 Pending Tasks:\n",
      "1. do introduction complete  (Priority: high)\n",
      "\n",
      "====== Task Scheduler Menu ======\n",
      "1. Add Task\n",
      "2. View Pending Tasks\n",
      "3. Complete Task\n",
      "4. Task Count\n",
      "5. Exit\n"
     ]
    },
    {
     "name": "stdin",
     "output_type": "stream",
     "text": [
      "Enter your choice (1-5):  4\n"
     ]
    },
    {
     "name": "stdout",
     "output_type": "stream",
     "text": [
      "📦 Total pending tasks: 1\n",
      "\n",
      "====== Task Scheduler Menu ======\n",
      "1. Add Task\n",
      "2. View Pending Tasks\n",
      "3. Complete Task\n",
      "4. Task Count\n",
      "5. Exit\n"
     ]
    },
    {
     "name": "stdin",
     "output_type": "stream",
     "text": [
      "Enter your choice (1-5):  3\n"
     ]
    },
    {
     "name": "stdout",
     "output_type": "stream",
     "text": [
      "✔️ Task 'do introduction complete ' completed and removed from the queue.\n",
      "\n",
      "====== Task Scheduler Menu ======\n",
      "1. Add Task\n",
      "2. View Pending Tasks\n",
      "3. Complete Task\n",
      "4. Task Count\n",
      "5. Exit\n"
     ]
    },
    {
     "name": "stdin",
     "output_type": "stream",
     "text": [
      "Enter your choice (1-5):  5\n"
     ]
    },
    {
     "name": "stdout",
     "output_type": "stream",
     "text": [
      "👋 Exiting Task Scheduler. Goodbye!\n"
     ]
    }
   ],
   "source": [
    "class Task:\n",
    "    def __init__(self, name, priority):\n",
    "        self.name = name\n",
    "        self.priority = priority\n",
    "\n",
    "    def __str__(self):\n",
    "        return f\"{self.name} (Priority: {self.priority})\"\n",
    "\n",
    "\n",
    "class TaskScheduler:\n",
    "    def __init__(self):\n",
    "        self.queue = []\n",
    "\n",
    "    def add_task(self, name, priority):\n",
    "        task = Task(name, priority)\n",
    "        self.queue.append(task)\n",
    "        print(f\"✅ Task '{task.name}' added successfully.\")\n",
    "\n",
    "    def complete_task(self):\n",
    "        if self.is_empty():\n",
    "            print(\"⚠️ No tasks to complete.\")\n",
    "        else:\n",
    "            task = self.queue.pop(0)\n",
    "            print(f\"✔️ Task '{task.name}' completed and removed from the queue.\")\n",
    "\n",
    "    def view_tasks(self):\n",
    "        if self.is_empty():\n",
    "            print(\"📭 No pending tasks.\")\n",
    "        else:\n",
    "            print(\"\\n📋 Pending Tasks:\")\n",
    "            for idx, task in enumerate(self.queue, start=1):\n",
    "                print(f\"{idx}. {task}\")\n",
    "\n",
    "    def task_count(self):\n",
    "        print(f\"📦 Total pending tasks: {len(self.queue)}\")\n",
    "\n",
    "    def is_empty(self):\n",
    "        return len(self.queue) == 0\n",
    "\n",
    "\n",
    "def main():\n",
    "    scheduler = TaskScheduler()\n",
    "\n",
    "    while True:\n",
    "        print(\"\\n====== Task Scheduler Menu ======\")\n",
    "        print(\"1. Add Task\")\n",
    "        print(\"2. View Pending Tasks\")\n",
    "        print(\"3. Complete Task\")\n",
    "        print(\"4. Task Count\")\n",
    "        print(\"5. Exit\")\n",
    "        choice = input(\"Enter your choice (1-5): \")\n",
    "\n",
    "        if choice == '1':\n",
    "            name = input(\"Enter task name: \")\n",
    "            priority = input(\"Enter priority (High/Medium/Low): \")\n",
    "            scheduler.add_task(name, priority)\n",
    "\n",
    "        elif choice == '2':\n",
    "            scheduler.view_tasks()\n",
    "\n",
    "        elif choice == '3':\n",
    "            scheduler.complete_task()\n",
    "\n",
    "        elif choice == '4':\n",
    "            scheduler.task_count()\n",
    "\n",
    "        elif choice == '5':\n",
    "            print(\"👋 Exiting Task Scheduler. Goodbye!\")\n",
    "            break\n",
    "\n",
    "        else:\n",
    "            print(\"❌ Invalid choice. Please select between 1 to 5.\")\n",
    "\n",
    "\n",
    "if __name__ == \"__main__\":\n",
    "    main()\n"
   ]
  },
  {
   "cell_type": "code",
   "execution_count": null,
   "id": "b1128afb-9f18-4564-8ff1-c8793a3d6d37",
   "metadata": {},
   "outputs": [],
   "source": []
  }
 ],
 "metadata": {
  "kernelspec": {
   "display_name": "Python 3 (ipykernel)",
   "language": "python",
   "name": "python3"
  },
  "language_info": {
   "codemirror_mode": {
    "name": "ipython",
    "version": 3
   },
   "file_extension": ".py",
   "mimetype": "text/x-python",
   "name": "python",
   "nbconvert_exporter": "python",
   "pygments_lexer": "ipython3",
   "version": "3.12.4"
  }
 },
 "nbformat": 4,
 "nbformat_minor": 5
}
