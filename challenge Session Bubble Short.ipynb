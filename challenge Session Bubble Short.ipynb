{
 "cells": [
  {
   "cell_type": "code",
   "execution_count": 1,
   "id": "8e454316-cee2-42b6-af49-65e3215e262b",
   "metadata": {},
   "outputs": [
    {
     "name": "stdout",
     "output_type": "stream",
     "text": [
      "descending order: [9, 6, 5, 5, 2, 1]\n"
     ]
    }
   ],
   "source": [
    "def bubble_sort_desc(arr):\n",
    "    n = len(arr)\n",
    "    for i in range(n - 1):\n",
    "        for j in range(n - i - 1):\n",
    "            if arr[j] < arr[j + 1]: \n",
    "                \n",
    "                arr[j], arr[j + 1] = arr[j + 1], arr[j]\n",
    "\n",
    "\n",
    "arr = [5, 2, 9, 1, 5, 6]\n",
    "bubble_sort_desc(arr)\n",
    "print(\"descending order:\",arr)"
   ]
  },
  {
   "cell_type": "code",
   "execution_count": 2,
   "id": "54f9112a-56a3-4759-923f-d791476a9f43",
   "metadata": {},
   "outputs": [
    {
     "name": "stdout",
     "output_type": "stream",
     "text": [
      "Sorted array in ascending order: [0, 10, 10, 20, 20, 20, 30, 40, 70]\n",
      "\n",
      "Swap count for each element:\n",
      "Element 0 was swapped 1 times.\n",
      "Element 10 was swapped 3 times.\n",
      "Element 10 was swapped 5 times.\n",
      "Element 20 was swapped 5 times.\n",
      "Element 20 was swapped 3 times.\n",
      "Element 20 was swapped 2 times.\n",
      "Element 30 was swapped 2 times.\n",
      "Element 40 was swapped 2 times.\n",
      "Element 70 was swapped 1 times.\n"
     ]
    }
   ],
   "source": [
    "def bubble_sort_ascending(arr):\n",
    "    n = len(arr)\n",
    "    swap_count = [0] * n  \n",
    "    \n",
    "    for i in range(n - 1):\n",
    "        for j in range(n - i - 1):\n",
    "            if arr[j] > arr[j + 1]:\n",
    "              \n",
    "                arr[j], arr[j + 1] = arr[j + 1], arr[j]\n",
    "                swap_count[j] += 1\n",
    "                swap_count[j + 1] += 1\n",
    "    \n",
    "    return arr, swap_count\n",
    "\n",
    "\n",
    "arr = [10, 20, 30, 20, 10, 0, 40, 70, 20]\n",
    "sorted_arr, swap_count = bubble_sort_ascending(arr)\n",
    "\n",
    "\n",
    "print(\"Sorted array in ascending order:\", sorted_arr)\n",
    "\n",
    "\n",
    "print(\"\\nSwap count for each element:\")\n",
    "for i in range(len(arr)):\n",
    "    print(f\"Element {arr[i]} was swapped {swap_count[i]} times.\")\n",
    "\n"
   ]
  },
  {
   "cell_type": "code",
   "execution_count": null,
   "id": "580213fb-bbf5-4ad1-a1ea-dca198e86445",
   "metadata": {},
   "outputs": [],
   "source": []
  }
 ],
 "metadata": {
  "kernelspec": {
   "display_name": "Python 3 (ipykernel)",
   "language": "python",
   "name": "python3"
  },
  "language_info": {
   "codemirror_mode": {
    "name": "ipython",
    "version": 3
   },
   "file_extension": ".py",
   "mimetype": "text/x-python",
   "name": "python",
   "nbconvert_exporter": "python",
   "pygments_lexer": "ipython3",
   "version": "3.12.4"
  }
 },
 "nbformat": 4,
 "nbformat_minor": 5
}
