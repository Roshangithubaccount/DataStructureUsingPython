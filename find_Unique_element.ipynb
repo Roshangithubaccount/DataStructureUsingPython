{
 "cells": [
  {
   "cell_type": "markdown",
   "id": "10a64a05-47cb-48d0-9f3d-37543d9a0fe3",
   "metadata": {},
   "source": [
    "## VVI for exam"
   ]
  },
  {
   "cell_type": "markdown",
   "id": "936ef664-48ee-4de5-a8ea-3c7293f14ec5",
   "metadata": {},
   "source": [
    "## linear search find unique element of arr"
   ]
  },
  {
   "cell_type": "code",
   "execution_count": 8,
   "id": "769e3c7c-d796-44a5-bf57-e0fb8b846a47",
   "metadata": {},
   "outputs": [
    {
     "name": "stdout",
     "output_type": "stream",
     "text": [
      "[3, 5, 7]\n"
     ]
    }
   ],
   "source": [
    "def find_unique_linear(arr):\n",
    "    unique_elements=[]\n",
    "    n = len(arr)\n",
    "\n",
    "    for i in range(n):\n",
    "        is_unique = True\n",
    "        for j  in range(n):\n",
    "            if i !=j and arr[i] == arr[j]:\n",
    "                is_unique = False\n",
    "                break\n",
    "\n",
    "        if is_unique:\n",
    "            unique_elements.append(arr[i])\n",
    "\n",
    "    return unique_elements\n",
    "\n",
    "arr = [4, 2, 3, 2, 4, 5, 6, 7, 6]\n",
    "print(find_unique_linear(arr))"
   ]
  },
  {
   "cell_type": "markdown",
   "id": "1f6b356b-99f1-433b-b22d-6c642cc5a910",
   "metadata": {},
   "source": [
    "## binary search find unique_value in arr"
   ]
  },
  {
   "cell_type": "code",
   "execution_count": 9,
   "id": "76aec240-8302-4602-aca0-2dcdece99534",
   "metadata": {},
   "outputs": [
    {
     "name": "stdout",
     "output_type": "stream",
     "text": [
      "[3, 5, 7]\n"
     ]
    }
   ],
   "source": [
    "def binary_search(arr, x):\n",
    "    left, right = 0, len(arr) - 1\n",
    "    count = 0\n",
    "\n",
    "    while left <= right:\n",
    "        mid = (left + right) // 2\n",
    "        if arr[mid] == x:\n",
    "            count += 1\n",
    "           \n",
    "            l, r = mid - 1, mid + 1\n",
    "            while l >= 0 and arr[l] == x:\n",
    "                count += 1\n",
    "                l -= 1\n",
    "            while r < len(arr) and arr[r] == x:\n",
    "                count += 1\n",
    "                r += 1\n",
    "            break  \n",
    "        elif arr[mid] < x:\n",
    "            left = mid + 1\n",
    "        else:\n",
    "            right = mid - 1\n",
    "\n",
    "    return count\n",
    "\n",
    "def find_unique_binary(arr):\n",
    "    arr.sort()\n",
    "    unique_elements = []\n",
    "\n",
    "    for i in range(len(arr)):\n",
    "        if binary_search(arr, arr[i]) == 1:  \n",
    "            unique_elements.append(arr[i])\n",
    "\n",
    "    return unique_elements\n",
    "\n",
    "\n",
    "arr = [4, 2, 3, 2, 4, 5, 6, 7, 6]\n",
    "print(find_unique_binary(arr))  \n"
   ]
  },
  {
   "cell_type": "code",
   "execution_count": null,
   "id": "dc822c75-569d-4cf3-93c3-a60ac4fb1c47",
   "metadata": {},
   "outputs": [],
   "source": [
    "   "
   ]
  }
 ],
 "metadata": {
  "kernelspec": {
   "display_name": "Python 3 (ipykernel)",
   "language": "python",
   "name": "python3"
  },
  "language_info": {
   "codemirror_mode": {
    "name": "ipython",
    "version": 3
   },
   "file_extension": ".py",
   "mimetype": "text/x-python",
   "name": "python",
   "nbconvert_exporter": "python",
   "pygments_lexer": "ipython3",
   "version": "3.12.4"
  }
 },
 "nbformat": 4,
 "nbformat_minor": 5
}
